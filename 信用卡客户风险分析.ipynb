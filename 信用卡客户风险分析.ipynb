{
 "cells": [
  {
   "cell_type": "code",
   "execution_count": 1,
   "metadata": {
    "scrolled": true
   },
   "outputs": [
    {
     "name": "stdout",
     "output_type": "stream",
     "text": [
      "<class 'pandas.core.frame.DataFrame'>\n",
      "RangeIndex: 65535 entries, 0 to 65534\n",
      "Data columns (total 28 columns):\n",
      " #   Column   Non-Null Count  Dtype \n",
      "---  ------   --------------  ----- \n",
      " 0   信用卡顾客编号  65535 non-null  object\n",
      " 1   申请书来源    65535 non-null  int64 \n",
      " 2   瑕疵户      65535 non-null  int64 \n",
      " 3   逾期       65535 non-null  int64 \n",
      " 4   呆账       65535 non-null  int64 \n",
      " 5   借款余额     65535 non-null  int64 \n",
      " 6   退票       65535 non-null  int64 \n",
      " 7   拒往记录     65535 non-null  int64 \n",
      " 8   强制停卡记录   65535 non-null  int64 \n",
      " 9   张数       65535 non-null  int64 \n",
      " 10  频率       65535 non-null  int64 \n",
      " 11  户籍       65535 non-null  int64 \n",
      " 12  都市化程度    65535 non-null  int64 \n",
      " 13  性別       65535 non-null  int64 \n",
      " 14  年龄       65535 non-null  int64 \n",
      " 15  婚姻       65535 non-null  int64 \n",
      " 16  学历       65535 non-null  int64 \n",
      " 17  职业       65535 non-null  int64 \n",
      " 18  个人月收入    65535 non-null  int64 \n",
      " 19  个人月开销    65535 non-null  int64 \n",
      " 20  住家       65535 non-null  int64 \n",
      " 21  家庭月收入    65535 non-null  int64 \n",
      " 22  月刷卡额     65535 non-null  int64 \n",
      " 23  宗教信仰     65535 non-null  int64 \n",
      " 24  人口数      65535 non-null  int64 \n",
      " 25  家庭经济     65535 non-null  int64 \n",
      " 26  血型       65535 non-null  int64 \n",
      " 27  星座       65535 non-null  int64 \n",
      "dtypes: int64(27), object(1)\n",
      "memory usage: 14.0+ MB\n"
     ]
    },
    {
     "data": {
      "text/html": [
       "<div>\n",
       "<style scoped>\n",
       "    .dataframe tbody tr th:only-of-type {\n",
       "        vertical-align: middle;\n",
       "    }\n",
       "\n",
       "    .dataframe tbody tr th {\n",
       "        vertical-align: top;\n",
       "    }\n",
       "\n",
       "    .dataframe thead th {\n",
       "        text-align: right;\n",
       "    }\n",
       "</style>\n",
       "<table border=\"1\" class=\"dataframe\">\n",
       "  <thead>\n",
       "    <tr style=\"text-align: right;\">\n",
       "      <th></th>\n",
       "      <th>申请书来源</th>\n",
       "      <th>瑕疵户</th>\n",
       "      <th>逾期</th>\n",
       "      <th>呆账</th>\n",
       "      <th>借款余额</th>\n",
       "      <th>退票</th>\n",
       "      <th>拒往记录</th>\n",
       "      <th>强制停卡记录</th>\n",
       "      <th>张数</th>\n",
       "      <th>频率</th>\n",
       "      <th>...</th>\n",
       "      <th>个人月收入</th>\n",
       "      <th>个人月开销</th>\n",
       "      <th>住家</th>\n",
       "      <th>家庭月收入</th>\n",
       "      <th>月刷卡额</th>\n",
       "      <th>宗教信仰</th>\n",
       "      <th>人口数</th>\n",
       "      <th>家庭经济</th>\n",
       "      <th>血型</th>\n",
       "      <th>星座</th>\n",
       "    </tr>\n",
       "  </thead>\n",
       "  <tbody>\n",
       "    <tr>\n",
       "      <th>count</th>\n",
       "      <td>65535.000000</td>\n",
       "      <td>65535.000000</td>\n",
       "      <td>65535.000000</td>\n",
       "      <td>65535.000000</td>\n",
       "      <td>65535.000000</td>\n",
       "      <td>65535.000000</td>\n",
       "      <td>65535.000000</td>\n",
       "      <td>65535.000000</td>\n",
       "      <td>65535.000000</td>\n",
       "      <td>65535.000000</td>\n",
       "      <td>...</td>\n",
       "      <td>65535.000000</td>\n",
       "      <td>65535.000000</td>\n",
       "      <td>65535.000000</td>\n",
       "      <td>65535.000000</td>\n",
       "      <td>65535.000000</td>\n",
       "      <td>65535.000000</td>\n",
       "      <td>65535.000000</td>\n",
       "      <td>65535.000000</td>\n",
       "      <td>65535.000000</td>\n",
       "      <td>65535.000000</td>\n",
       "    </tr>\n",
       "    <tr>\n",
       "      <th>mean</th>\n",
       "      <td>3.912871</td>\n",
       "      <td>1.945190</td>\n",
       "      <td>1.913680</td>\n",
       "      <td>1.919554</td>\n",
       "      <td>1.906798</td>\n",
       "      <td>1.912596</td>\n",
       "      <td>1.912718</td>\n",
       "      <td>1.907774</td>\n",
       "      <td>1.730190</td>\n",
       "      <td>2.928771</td>\n",
       "      <td>...</td>\n",
       "      <td>3.249470</td>\n",
       "      <td>1.776150</td>\n",
       "      <td>3.148287</td>\n",
       "      <td>2.968185</td>\n",
       "      <td>3.584802</td>\n",
       "      <td>3.763455</td>\n",
       "      <td>4.258289</td>\n",
       "      <td>2.652415</td>\n",
       "      <td>2.615839</td>\n",
       "      <td>6.626246</td>\n",
       "    </tr>\n",
       "    <tr>\n",
       "      <th>std</th>\n",
       "      <td>2.041085</td>\n",
       "      <td>0.227612</td>\n",
       "      <td>0.280839</td>\n",
       "      <td>0.271984</td>\n",
       "      <td>0.290718</td>\n",
       "      <td>0.282428</td>\n",
       "      <td>0.282249</td>\n",
       "      <td>0.289346</td>\n",
       "      <td>0.753353</td>\n",
       "      <td>0.843071</td>\n",
       "      <td>...</td>\n",
       "      <td>1.957573</td>\n",
       "      <td>1.023931</td>\n",
       "      <td>1.103219</td>\n",
       "      <td>1.655338</td>\n",
       "      <td>1.578383</td>\n",
       "      <td>2.462894</td>\n",
       "      <td>1.434658</td>\n",
       "      <td>0.986383</td>\n",
       "      <td>1.283497</td>\n",
       "      <td>3.450280</td>\n",
       "    </tr>\n",
       "    <tr>\n",
       "      <th>min</th>\n",
       "      <td>1.000000</td>\n",
       "      <td>1.000000</td>\n",
       "      <td>1.000000</td>\n",
       "      <td>1.000000</td>\n",
       "      <td>1.000000</td>\n",
       "      <td>1.000000</td>\n",
       "      <td>1.000000</td>\n",
       "      <td>1.000000</td>\n",
       "      <td>1.000000</td>\n",
       "      <td>1.000000</td>\n",
       "      <td>...</td>\n",
       "      <td>1.000000</td>\n",
       "      <td>1.000000</td>\n",
       "      <td>1.000000</td>\n",
       "      <td>0.000000</td>\n",
       "      <td>1.000000</td>\n",
       "      <td>1.000000</td>\n",
       "      <td>1.000000</td>\n",
       "      <td>1.000000</td>\n",
       "      <td>1.000000</td>\n",
       "      <td>1.000000</td>\n",
       "    </tr>\n",
       "    <tr>\n",
       "      <th>25%</th>\n",
       "      <td>2.000000</td>\n",
       "      <td>2.000000</td>\n",
       "      <td>2.000000</td>\n",
       "      <td>2.000000</td>\n",
       "      <td>2.000000</td>\n",
       "      <td>2.000000</td>\n",
       "      <td>2.000000</td>\n",
       "      <td>2.000000</td>\n",
       "      <td>1.000000</td>\n",
       "      <td>2.000000</td>\n",
       "      <td>...</td>\n",
       "      <td>1.000000</td>\n",
       "      <td>1.000000</td>\n",
       "      <td>3.000000</td>\n",
       "      <td>2.000000</td>\n",
       "      <td>2.000000</td>\n",
       "      <td>1.000000</td>\n",
       "      <td>4.000000</td>\n",
       "      <td>2.000000</td>\n",
       "      <td>1.000000</td>\n",
       "      <td>4.000000</td>\n",
       "    </tr>\n",
       "    <tr>\n",
       "      <th>50%</th>\n",
       "      <td>4.000000</td>\n",
       "      <td>2.000000</td>\n",
       "      <td>2.000000</td>\n",
       "      <td>2.000000</td>\n",
       "      <td>2.000000</td>\n",
       "      <td>2.000000</td>\n",
       "      <td>2.000000</td>\n",
       "      <td>2.000000</td>\n",
       "      <td>2.000000</td>\n",
       "      <td>3.000000</td>\n",
       "      <td>...</td>\n",
       "      <td>3.000000</td>\n",
       "      <td>1.000000</td>\n",
       "      <td>3.000000</td>\n",
       "      <td>3.000000</td>\n",
       "      <td>3.000000</td>\n",
       "      <td>4.000000</td>\n",
       "      <td>4.000000</td>\n",
       "      <td>3.000000</td>\n",
       "      <td>2.000000</td>\n",
       "      <td>7.000000</td>\n",
       "    </tr>\n",
       "    <tr>\n",
       "      <th>75%</th>\n",
       "      <td>5.000000</td>\n",
       "      <td>2.000000</td>\n",
       "      <td>2.000000</td>\n",
       "      <td>2.000000</td>\n",
       "      <td>2.000000</td>\n",
       "      <td>2.000000</td>\n",
       "      <td>2.000000</td>\n",
       "      <td>2.000000</td>\n",
       "      <td>2.000000</td>\n",
       "      <td>3.000000</td>\n",
       "      <td>...</td>\n",
       "      <td>5.000000</td>\n",
       "      <td>2.000000</td>\n",
       "      <td>4.000000</td>\n",
       "      <td>4.000000</td>\n",
       "      <td>5.000000</td>\n",
       "      <td>6.000000</td>\n",
       "      <td>5.000000</td>\n",
       "      <td>3.000000</td>\n",
       "      <td>4.000000</td>\n",
       "      <td>10.000000</td>\n",
       "    </tr>\n",
       "    <tr>\n",
       "      <th>max</th>\n",
       "      <td>8.000000</td>\n",
       "      <td>2.000000</td>\n",
       "      <td>2.000000</td>\n",
       "      <td>2.000000</td>\n",
       "      <td>2.000000</td>\n",
       "      <td>2.000000</td>\n",
       "      <td>2.000000</td>\n",
       "      <td>2.000000</td>\n",
       "      <td>4.000000</td>\n",
       "      <td>5.000000</td>\n",
       "      <td>...</td>\n",
       "      <td>8.000000</td>\n",
       "      <td>5.000000</td>\n",
       "      <td>6.000000</td>\n",
       "      <td>6.000000</td>\n",
       "      <td>8.000000</td>\n",
       "      <td>7.000000</td>\n",
       "      <td>8.000000</td>\n",
       "      <td>5.000000</td>\n",
       "      <td>4.000000</td>\n",
       "      <td>12.000000</td>\n",
       "    </tr>\n",
       "  </tbody>\n",
       "</table>\n",
       "<p>8 rows × 27 columns</p>\n",
       "</div>"
      ],
      "text/plain": [
       "              申请书来源           瑕疵户            逾期            呆账          借款余额  \\\n",
       "count  65535.000000  65535.000000  65535.000000  65535.000000  65535.000000   \n",
       "mean       3.912871      1.945190      1.913680      1.919554      1.906798   \n",
       "std        2.041085      0.227612      0.280839      0.271984      0.290718   \n",
       "min        1.000000      1.000000      1.000000      1.000000      1.000000   \n",
       "25%        2.000000      2.000000      2.000000      2.000000      2.000000   \n",
       "50%        4.000000      2.000000      2.000000      2.000000      2.000000   \n",
       "75%        5.000000      2.000000      2.000000      2.000000      2.000000   \n",
       "max        8.000000      2.000000      2.000000      2.000000      2.000000   \n",
       "\n",
       "                 退票          拒往记录        强制停卡记录            张数            频率  \\\n",
       "count  65535.000000  65535.000000  65535.000000  65535.000000  65535.000000   \n",
       "mean       1.912596      1.912718      1.907774      1.730190      2.928771   \n",
       "std        0.282428      0.282249      0.289346      0.753353      0.843071   \n",
       "min        1.000000      1.000000      1.000000      1.000000      1.000000   \n",
       "25%        2.000000      2.000000      2.000000      1.000000      2.000000   \n",
       "50%        2.000000      2.000000      2.000000      2.000000      3.000000   \n",
       "75%        2.000000      2.000000      2.000000      2.000000      3.000000   \n",
       "max        2.000000      2.000000      2.000000      4.000000      5.000000   \n",
       "\n",
       "       ...         个人月收入         个人月开销            住家         家庭月收入  \\\n",
       "count  ...  65535.000000  65535.000000  65535.000000  65535.000000   \n",
       "mean   ...      3.249470      1.776150      3.148287      2.968185   \n",
       "std    ...      1.957573      1.023931      1.103219      1.655338   \n",
       "min    ...      1.000000      1.000000      1.000000      0.000000   \n",
       "25%    ...      1.000000      1.000000      3.000000      2.000000   \n",
       "50%    ...      3.000000      1.000000      3.000000      3.000000   \n",
       "75%    ...      5.000000      2.000000      4.000000      4.000000   \n",
       "max    ...      8.000000      5.000000      6.000000      6.000000   \n",
       "\n",
       "               月刷卡额          宗教信仰           人口数          家庭经济            血型  \\\n",
       "count  65535.000000  65535.000000  65535.000000  65535.000000  65535.000000   \n",
       "mean       3.584802      3.763455      4.258289      2.652415      2.615839   \n",
       "std        1.578383      2.462894      1.434658      0.986383      1.283497   \n",
       "min        1.000000      1.000000      1.000000      1.000000      1.000000   \n",
       "25%        2.000000      1.000000      4.000000      2.000000      1.000000   \n",
       "50%        3.000000      4.000000      4.000000      3.000000      2.000000   \n",
       "75%        5.000000      6.000000      5.000000      3.000000      4.000000   \n",
       "max        8.000000      7.000000      8.000000      5.000000      4.000000   \n",
       "\n",
       "                 星座  \n",
       "count  65535.000000  \n",
       "mean       6.626246  \n",
       "std        3.450280  \n",
       "min        1.000000  \n",
       "25%        4.000000  \n",
       "50%        7.000000  \n",
       "75%       10.000000  \n",
       "max       12.000000  \n",
       "\n",
       "[8 rows x 27 columns]"
      ]
     },
     "execution_count": 1,
     "metadata": {},
     "output_type": "execute_result"
    }
   ],
   "source": [
    "import pandas as pd\n",
    "import numpy as np\n",
    "import os\n",
    "credit_card = pd.read_csv(\"credit_card.csv\", encoding='utf-8')\n",
    "credit_card.info()\n",
    "credit_card.describe()"
   ]
  },
  {
   "cell_type": "code",
   "execution_count": 2,
   "metadata": {
    "scrolled": true
   },
   "outputs": [
    {
     "name": "stdout",
     "output_type": "stream",
     "text": [
      "清洗后数据：         信用卡顾客编号  申请书来源  瑕疵户  逾期  呆账  借款余额  退票  拒往记录  强制停卡记录  张数  ...  个人月收入  \\\n",
      "0   CDMS0000001      5    2   2   2     2   2     2       2   1  ...      1   \n",
      "1   CDMS0000002      3    2   2   2     2   2     2       2   2  ...      1   \n",
      "2   CDMS0000003      2    2   2   2     2   2     2       2   2  ...      1   \n",
      "3   CDMS0000004      3    2   2   2     2   2     2       2   2  ...      1   \n",
      "4   CDMS0000005      6    2   2   2     2   2     2       2   2  ...      1   \n",
      "5   CDMS0000006      5    2   2   2     2   2     2       2   2  ...      1   \n",
      "7   CDMS0000008      6    2   2   2     2   2     2       2   1  ...      1   \n",
      "8   CDMS0000009      7    2   2   2     2   2     2       2   2  ...      1   \n",
      "9   CDMS0000010      5    2   2   2     2   2     2       2   2  ...      1   \n",
      "10  CDMS0000011      1    2   2   2     2   2     2       2   2  ...      1   \n",
      "\n",
      "    个人月开销  住家  家庭月收入  月刷卡额  宗教信仰  人口数  家庭经济  血型  星座  \n",
      "0       1   1      1     1     2    4     4   4  10  \n",
      "1       2   1      1     2     1    4     4   1   5  \n",
      "2       1   1      1     6     6    6     5   1   7  \n",
      "3       1   1      1     4     2    4     3   2   6  \n",
      "4       3   1      1     5     1    4     3   4   6  \n",
      "5       2   1      1     4     6    3     5   2  12  \n",
      "7       1   1      1     6     1    3     3   2  12  \n",
      "8       1   1      1     1     6    4     3   4   9  \n",
      "9       1   1      1     3     1    2     4   4   2  \n",
      "10      1   1      1     4     6    5     4   4   1  \n",
      "\n",
      "[10 rows x 28 columns]\n"
     ]
    }
   ],
   "source": [
    "index1 = credit_card['逾期'] == 1\n",
    "index2 = credit_card['呆账'] == 1\n",
    "index3 = credit_card['强制停卡记录'] == 1\n",
    "index4 = credit_card['退票'] == 1\n",
    "index5 = credit_card['拒往记录'] == 1\n",
    "index6 = credit_card['瑕疵户'] == 2\n",
    "indexs = index1 & index2 & index3 & index4 & index5 & index6\n",
    "data1 = credit_card.loc[indexs == False, :] #删除逾期，呆账，强制停卡，退票，拒往记录为1（是），瑕疵户为2（否）后的数据\n",
    "\n",
    "index7 = data1['拒往记录'] == 2\n",
    "indexs2 = index2 & index3 & index4 &index7\n",
    "data2 = data1.loc[indexs2 == False, :]  #删除呆账，强制停卡，退票为1，拒往记录为2后的数据\n",
    "\n",
    "index8 = data2[\"频率\"] == 5\n",
    "index9 = data2[\"月刷卡额\"] != 1\n",
    "indexs3 = index8 & index9\n",
    "data3 = data2.loc[indexs3 == False, :]  #删除频率为5，刷卡金额不等于1的数据\n",
    "print(\"清洗后数据：\",data3.head(10))"
   ]
  },
  {
   "cell_type": "code",
   "execution_count": 4,
   "metadata": {},
   "outputs": [
    {
     "name": "stdout",
     "output_type": "stream",
     "text": [
      "构建历史行为特征前5个特征为：\n",
      "    瑕疵户  逾期  呆账  退票  拒往记录  强制停卡记录\n",
      "0    2   2   2   2     2       2\n",
      "1    2   2   2   2     2       2\n",
      "2    2   2   2   2     2       2\n",
      "3    2   2   2   2     2       2\n",
      "4    2   2   2   2     2       2\n"
     ]
    }
   ],
   "source": [
    "# 2.构造信用卡客户风险关键特征\n",
    "# (1)历史行为特征；(2)经济风险特征#；（3）收入风险特征；（4）标准化数据\n",
    "\n",
    "##根据特征瑕疵户，逾期，呆账，强制停卡，退票，拒往记录构建历史行为特征。\n",
    "card1 = data3[['瑕疵户','逾期','呆账','退票','拒往记录','强制停卡记录']]\n",
    "#计算评分 数值越低，评分越低\n",
    "def GetScore(x):\n",
    "    if x>=2:\n",
    "        a =0\n",
    "    else:\n",
    "        a =1\n",
    "    return a\n",
    "score_1=data3['瑕疵户'].apply(GetScore)\n",
    "score_2=data3['逾期'].apply(GetScore)\n",
    "score_3=data3['呆账'].apply(GetScore)\n",
    "score_4=data3['退票'].apply(GetScore)\n",
    "score_5=data3['拒往记录'].apply(GetScore)\n",
    "score_6=data3['强制停卡记录'].apply(GetScore)\n",
    "#加权求和\n",
    "# data_means.loc[:,'history_credit_risk']=score_1+score_2*2+score_3*3+score_4*3+score_5*3+score_6\n",
    "print('构建历史行为特征前5个特征为：\\n',card1.head())"
   ]
  },
  {
   "cell_type": "code",
   "execution_count": 5,
   "metadata": {},
   "outputs": [
    {
     "name": "stdout",
     "output_type": "stream",
     "text": [
      "构建经济风险特征前5个特征为：\n",
      "    借款余额  个人月收入  个人月开销  家庭月收入  月刷卡额\n",
      "0     2      1      1      1     1\n",
      "1     2      1      2      1     2\n",
      "2     2      1      1      1     6\n",
      "3     2      1      1      1     4\n",
      "4     2      1      3      1     5\n"
     ]
    }
   ],
   "source": [
    "##根据特征借款余额，个人月收入，个人月开销，家庭月收入和月刷卡金额，构建出经济风险情况特征。\n",
    "card2 = data3[['借款余额','个人月收入','个人月开销','家庭月收入','月刷卡额']]\n",
    "def GetScore_encomic(x):\n",
    "    if x >= 2:\n",
    "        a = 1\n",
    "    else:\n",
    "        a = 0\n",
    "    return a\n",
    "score_yu = data3['月刷卡额'].apply(GetScore_encomic)\n",
    "# 个人月收入情况分数\n",
    "data_person = data3['个人月收入'] / data3['个人月开销']\n",
    "# 家庭月收入情况分数\n",
    "data_mouth = data3['家庭月收入'] / data3['月刷卡额']\n",
    "print('构建经济风险特征前5个特征为：\\n',card2.head())"
   ]
  },
  {
   "cell_type": "code",
   "execution_count": 6,
   "metadata": {},
   "outputs": [
    {
     "name": "stdout",
     "output_type": "stream",
     "text": [
      "构建收入风险情况特征前5个特征为：\n",
      "    职业  年龄  住家\n",
      "0  12   3   1\n",
      "1  19   7   1\n",
      "2  11   2   1\n",
      "3  12   7   1\n",
      "4  11   4   1\n"
     ]
    }
   ],
   "source": [
    "##根据特征职业，年龄，住家，构建出收入风险情况特征。\n",
    "card3 = data3[['职业','年龄','住家']]\n",
    "print('构建收入风险情况特征前5个特征为：\\n',card3.head())"
   ]
  },
  {
   "cell_type": "code",
   "execution_count": 7,
   "metadata": {},
   "outputs": [
    {
     "name": "stdout",
     "output_type": "stream",
     "text": [
      "构建特征前5个为：\n",
      "    瑕疵户  逾期  呆账  退票  拒往记录  强制停卡记录  借款余额  个人月收入  个人月开销  家庭月收入  月刷卡额  职业  年龄  住家\n",
      "0    2   2   2   2     2       2     2      1      1      1     1  12   3   1\n",
      "1    2   2   2   2     2       2     2      1      2      1     2  19   7   1\n",
      "2    2   2   2   2     2       2     2      1      1      1     6  11   2   1\n",
      "3    2   2   2   2     2       2     2      1      1      1     4  12   7   1\n",
      "4    2   2   2   2     2       2     2      1      3      1     5  11   4   1\n"
     ]
    }
   ],
   "source": [
    "cards= pd.concat([card1,card2,card3],axis=1)\n",
    "print('构建特征前5个为：\\n',cards.head())"
   ]
  },
  {
   "cell_type": "code",
   "execution_count": 8,
   "metadata": {},
   "outputs": [
    {
     "name": "stdout",
     "output_type": "stream",
     "text": [
      "标准化后模型的前10个特征为：\n",
      " [[ 0.24381325  0.23879532  0.22088026  0.23902695  0.24852776  0.25098948\n",
      "   0.25335913 -1.15521843 -0.74968558 -1.18316767 -1.6436681  -0.07685176\n",
      "  -0.44054478 -1.95817546]\n",
      " [ 0.24381325  0.23879532  0.22088026  0.23902695  0.24852776  0.25098948\n",
      "   0.25335913 -1.15521843  0.23116695 -1.18316767 -1.01399949  1.22685193\n",
      "   1.25542278 -1.95817546]\n",
      " [ 0.24381325  0.23879532  0.22088026  0.23902695  0.24852776  0.25098948\n",
      "   0.25335913 -1.15521843 -0.74968558 -1.18316767  1.50467492 -0.26309514\n",
      "  -0.86453667 -1.95817546]\n",
      " [ 0.24381325  0.23879532  0.22088026  0.23902695  0.24852776  0.25098948\n",
      "   0.25335913 -1.15521843 -0.74968558 -1.18316767  0.24533771 -0.07685176\n",
      "   1.25542278 -1.95817546]\n",
      " [ 0.24381325  0.23879532  0.22088026  0.23902695  0.24852776  0.25098948\n",
      "   0.25335913 -1.15521843  1.21201948 -1.18316767  0.87500632 -0.26309514\n",
      "  -0.01655289 -1.95817546]\n",
      " [ 0.24381325  0.23879532  0.22088026  0.23902695  0.24852776  0.25098948\n",
      "   0.25335913 -1.15521843  0.23116695 -1.18316767  0.24533771  0.66812178\n",
      "  -0.44054478 -1.95817546]\n",
      " [ 0.24381325  0.23879532  0.22088026  0.23902695  0.24852776  0.25098948\n",
      "   0.25335913 -1.15521843 -0.74968558 -1.18316767  1.50467492 -0.26309514\n",
      "  -0.86453667 -1.95817546]\n",
      " [ 0.24381325  0.23879532  0.22088026  0.23902695  0.24852776  0.25098948\n",
      "   0.25335913 -1.15521843 -0.74968558 -1.18316767 -1.6436681  -0.26309514\n",
      "  -0.86453667 -1.95817546]\n",
      " [ 0.24381325  0.23879532  0.22088026  0.23902695  0.24852776  0.25098948\n",
      "   0.25335913 -1.15521843 -0.74968558 -1.18316767 -0.38433089 -0.07685176\n",
      "  -0.44054478 -1.95817546]\n",
      " [ 0.24381325  0.23879532  0.22088026  0.23902695  0.24852776  0.25098948\n",
      "   0.25335913 -1.15521843 -0.74968558 -1.18316767  0.24533771  0.10939162\n",
      "  -0.86453667 -1.95817546]]\n"
     ]
    }
   ],
   "source": [
    "##将瑕疵户 逾期 呆账 退票 拒往记录 强制停卡记录 借款余额 个人月收入 个人月开销 家庭月收入 月刷卡额 职业 年龄 住家 特征标准化\n",
    "from sklearn.preprocessing import StandardScaler\n",
    "data = StandardScaler().fit_transform(cards)\n",
    "np.savez('D:/cards.npz',data)\n",
    "print('标准化后模型的前10个特征为：\\n',data[:10,:])"
   ]
  },
  {
   "cell_type": "code",
   "execution_count": 9,
   "metadata": {},
   "outputs": [
    {
     "name": "stdout",
     "output_type": "stream",
     "text": [
      "聚类中心： [[ 1.9518616   1.94704776  1.96141407  1.94704776  1.95675066  1.94238436\n",
      "   1.94697255  3.37442648  1.74764949  3.03091388  3.95667544 19.08867995\n",
      "   4.2708537   3.37111696]\n",
      " [ 1.94126905  1.93588469  1.95203777  1.94126905  1.94665341  1.93588469\n",
      "   1.94126905  2.52659046  1.80864811  2.81196156  2.81196156  3.64927104\n",
      "   4.16451292  2.71678264]\n",
      " [ 1.93152753  1.94307282  1.94884547  1.93703375  1.92024867  1.93152753\n",
      "   1.92602131  1.43294849  1.73490231  1.80239787  3.63374778 12.41811723\n",
      "   3.09076377  3.28383659]\n",
      " [ 1.95220678  1.96805657  1.96013168  1.96769081  1.93672275  1.95220678\n",
      "   1.93672275  3.3621068   1.74823214  2.94964643  3.8206535  12.80529139\n",
      "   7.37722507  3.0510851 ]\n",
      " [ 1.94367896  1.94367896  1.94774271  1.94367896  1.94361547  1.94367896\n",
      "   1.94361547  5.04203441  1.77382691  3.85211759  3.80379707 13.28579592\n",
      "   2.68664677  3.26433424]]\n",
      "最终每个类别的数目为：\n",
      " 0    21829\n",
      "4    18728\n",
      "2    12399\n",
      "3     4158\n",
      "1     3464\n",
      "dtype: int64\n"
     ]
    }
   ],
   "source": [
    "##构建K-Means聚类模型\n",
    "##构建聚类模型，聚类数为5，训练模型，并求出聚类中心，每类的用户数目\n",
    "\n",
    "from sklearn.cluster import KMeans\n",
    "data_kmeans = KMeans(n_clusters=5,random_state=123).fit(cards)\n",
    "print('聚类中心：',data_kmeans.cluster_centers_)\n",
    "# 构建KMeans聚类\n",
    "card_scale = np.load('D:/cards.npz')\\\n",
    "    ['arr_0']\n",
    "k = 5\n",
    "kmeans_model = KMeans(n_clusters=k,random_state=123)\n",
    "fit_kmeans = kmeans_model.fit(card_scale)\n",
    "kmeans_model.cluster_centers_ #查看聚类中心\n",
    "#统计不同类别样本的数目\n",
    "a1 = pd.Series(kmeans_model.labels_).value_counts()\n",
    "#datas.to_csv(\"mean.csv\",index=False,sep=',', encoding=\"utf_8_sig\")\n",
    "#a1.to_csv(\"final_data.csv\",index=False,sep=',', encoding=\"utf_8_sig\")\n",
    "print('最终每个类别的数目为：\\n',a1)"
   ]
  },
  {
   "cell_type": "code",
   "execution_count": 10,
   "metadata": {},
   "outputs": [
    {
     "data": {
      "image/png": "[encoded data removed]",
      "text/plain": [
       "<Figure size 720x576 with 2 Axes>"
      ]
     },
     "metadata": {
      "needs_background": "light"
     },
     "output_type": "display_data"
    }
   ],
   "source": [
    "#相关系数\n",
    "import csv  # 导入csv模块\n",
    "import pandas as pd\n",
    "import matplotlib.pyplot as plt\n",
    "import numpy as np\n",
    "import seaborn as sns\n",
    "import matplotlib\n",
    "matplotlib.rcParams['font.family'] = 'SimHei'\n",
    "matplotlib.rcParams['font.size'] = 10\n",
    "matplotlib.rcParams['axes.unicode_minus']=False\n",
    "# 相关性结果数据表\n",
    "d= pd.read_csv('mean.-+---+csv', usecols=['历史行为特征','经济风险特征','收入风险特征','lable'])\n",
    "# print(d)\n",
    "corrmat=d.corr()\n",
    "# #热力图\n",
    "fig=plt.figure(figsize=(10, 8))\n",
    "sns.heatmap(corrmat, square=True,linewidths=.5, annot=True,cmap='Oranges_r');\n",
    "plt.show()\n",
    "#经济风险特征和类别存在高度相关，相关系数为-0.85\n",
    "#收入风险特征和类别都是低度相关，相关系数为0.2"
   ]
  },
  {
   "cell_type": "code",
   "execution_count": 11,
   "metadata": {},
   "outputs": [
    {
     "data": {
      "image/png": "[encoded data removed]",
      "text/plain": [
       "<Figure size 720x576 with 1 Axes>"
      ]
     },
     "metadata": {
      "needs_background": "light"
     },
     "output_type": "display_data"
    }
   ],
   "source": [
    "import csv\n",
    "import matplotlib.pyplot as plt\n",
    "import numpy as np\n",
    "import pandas as pd\n",
    "\n",
    "exampleFile = open('final_data.csv')  # 打开csv文件\n",
    "exampleReader = csv.reader(exampleFile)  # 读取csv文件\n",
    "exampleData = list(exampleReader)  # csv数据转换为列表\n",
    "length_zu = len(exampleData)  # 得到数据行数\n",
    "length_yuan = len(exampleData[0])  # 得到每行长度\n",
    "\n",
    "x = list()\n",
    "y = list()\n",
    "\n",
    "for i in range(1, length_zu):  # 从第二行开始读取\n",
    "    x.append(exampleData[i][0])  # 将第一列数据从第二行读取到最后一行赋给列表x\n",
    "    y.append(exampleData[i][1])  # 将第二列数据从第二行读取到最后一行赋给列表\n",
    "fig=plt.figure(figsize=(10, 8))\n",
    "plt.bar(x, y)  # 绘制x,y的折线图\n",
    "plt.show()  # 显示柱状图"
   ]
  },
  {
   "cell_type": "code",
   "execution_count": 12,
   "metadata": {},
   "outputs": [
    {
     "data": {
      "image/png": "[encoded data removed]",
      "text/plain": [
       "<Figure size 720x576 with 2 Axes>"
      ]
     },
     "metadata": {
      "needs_background": "light"
     },
     "output_type": "display_data"
    }
   ],
   "source": [
    "import pandas as pd\n",
    "import numpy as np\n",
    "import os\n",
    "import seaborn as sns\n",
    "import matplotlib.pyplot as plt\n",
    "import matplotlib\n",
    "matplotlib.rcParams['font.family'] = 'SimHei'\n",
    "matplotlib.rcParams['font.size'] = 10\n",
    "matplotlib.rcParams['axes.unicode_minus']=False\n",
    "#根据特征瑕疵户，逾期，呆账，强制停卡，退票，拒往记录构建历史行为特征相关分析\n",
    "# 相关性结果数据表\n",
    "d= pd.read_csv('credit_card完成.csv', usecols=['瑕疵户','逾期','呆账','借款余额','退票','拒往记录','强制停卡记录'])\n",
    "# print(d)\n",
    "corrmat=d.corr()\n",
    "# #热力图\n",
    "fig=plt.figure(figsize=(10, 8))\n",
    "sns.heatmap(corrmat, square=True,linewidths=.5, annot=True);\n",
    "plt.show()\n",
    "\n",
    "#'瑕疵户'与'强制停卡记录'的相关系数很高,相关系数为0.97\n",
    "#'逾期'与'强制停卡记录'的相关系数很高,相关系数为0.95\n",
    "#'瑕疵户'与'逾期'的相关系数很高,相关系数为0.94"
   ]
  },
  {
   "cell_type": "code",
   "execution_count": 13,
   "metadata": {},
   "outputs": [
    {
     "data": {
      "image/png": "[encoded data removed]",
      "text/plain": [
       "<Figure size 720x576 with 2 Axes>"
      ]
     },
     "metadata": {
      "needs_background": "light"
     },
     "output_type": "display_data"
    }
   ],
   "source": [
    "#根据特征借款余额，个人月收入，个人月开销，家庭月收入和月刷卡金额，构建出经济风险情况特征相关分析。\n",
    "d= pd.read_csv('credit_card完成.csv',usecols=['借款余额','个人月收入','个人月开销','家庭月收入','月刷卡额'])\n",
    "# print(d)\n",
    "corrmat=d.corr()\n",
    "# #热力图\n",
    "fig=plt.figure(figsize=(10, 8))\n",
    "sns.heatmap(corrmat, square=True,linewidths=.5, annot=True,cmap='Blues');\n",
    "plt.show()\n",
    "#个人月收入和家庭月收入是中度相关，相关系数是0.41"
   ]
  },
  {
   "cell_type": "code",
   "execution_count": 14,
   "metadata": {},
   "outputs": [
    {
     "data": {
      "image/png": "[encoded data removed]",
      "text/plain": [
       "<Figure size 720x576 with 2 Axes>"
      ]
     },
     "metadata": {
      "needs_background": "light"
     },
     "output_type": "display_data"
    }
   ],
   "source": [
    "#根据特征职业，年龄，住家，构建出收入风险情况特征相关分析。\n",
    "d= pd.read_csv('credit_card完成.csv',usecols=['职业','年龄','住家'])\n",
    "# print(d)\n",
    "corrmat=d.corr()\n",
    "# #热力图\n",
    "fig=plt.figure(figsize=(10, 8))\n",
    "sns.heatmap(corrmat, square=True,linewidths=.5, annot=True);\n",
    "plt.show()\n",
    "#住家和职业是低度相关，相关系数是0.22"
   ]
  },
  {
   "cell_type": "code",
   "execution_count": null,
   "metadata": {},
   "outputs": [],
   "source": [
    "# 手肘法的核心指标是SSE(sum of the squared errors，误差平方和)，\n",
    "\n",
    "# 当k小于真实聚类数时，由于k的增大会大幅增加每个簇的聚合程度，故SSE的下降幅度会很大，\n",
    "\n",
    "#而当k到达真实聚类数时，再增加k所得到的聚合程度回报会迅速变小，\n",
    "#     所以SSE的下降幅度会骤减，然后随着k值的继续增大而趋于平缓，也就是说SSE和k的关系图是一个手肘的形状，\n",
    "#     而这个  肘部对应的k值就是数据的真实聚类数。当然，这也是该方法被称为手肘法的原因。\n",
    "# # 对于K-Means方法，k的取值是一个难点，因为是无监督的聚类分析问题，所以不寻在绝对正确的值，需要进行研究试探。\n",
    "# # 这里采用计算SSE的方法，尝试找到最好的K数值。编写函数如下："
   ]
  },
  {
   "cell_type": "code",
   "execution_count": 16,
   "metadata": {},
   "outputs": [
    {
     "name": "stderr",
     "output_type": "stream",
     "text": [
      "D:\\apps\\Anaconda3\\lib\\site-packages\\sklearn\\cluster\\_kmeans.py:973: FutureWarning: 'n_jobs' was deprecated in version 0.23 and will be removed in 0.25.\n",
      "  warnings.warn(\"'n_jobs' was deprecated in version 0.23 and will be\"\n",
      "D:\\apps\\Anaconda3\\lib\\site-packages\\sklearn\\cluster\\_kmeans.py:973: FutureWarning: 'n_jobs' was deprecated in version 0.23 and will be removed in 0.25.\n",
      "  warnings.warn(\"'n_jobs' was deprecated in version 0.23 and will be\"\n"
     ]
    },
    {
     "name": "stdout",
     "output_type": "stream",
     "text": [
      "簇数是 2 时； SSE是 130622.63425588822\n"
     ]
    },
    {
     "name": "stderr",
     "output_type": "stream",
     "text": [
      "D:\\apps\\Anaconda3\\lib\\site-packages\\sklearn\\cluster\\_kmeans.py:973: FutureWarning: 'n_jobs' was deprecated in version 0.23 and will be removed in 0.25.\n",
      "  warnings.warn(\"'n_jobs' was deprecated in version 0.23 and will be\"\n"
     ]
    },
    {
     "name": "stdout",
     "output_type": "stream",
     "text": [
      "簇数是 3 时； SSE是 75652.00203849505\n"
     ]
    },
    {
     "name": "stderr",
     "output_type": "stream",
     "text": [
      "D:\\apps\\Anaconda3\\lib\\site-packages\\sklearn\\cluster\\_kmeans.py:973: FutureWarning: 'n_jobs' was deprecated in version 0.23 and will be removed in 0.25.\n",
      "  warnings.warn(\"'n_jobs' was deprecated in version 0.23 and will be\"\n"
     ]
    },
    {
     "name": "stdout",
     "output_type": "stream",
     "text": [
      "簇数是 4 时； SSE是 47669.39097379853\n"
     ]
    },
    {
     "name": "stderr",
     "output_type": "stream",
     "text": [
      "D:\\apps\\Anaconda3\\lib\\site-packages\\sklearn\\cluster\\_kmeans.py:973: FutureWarning: 'n_jobs' was deprecated in version 0.23 and will be removed in 0.25.\n",
      "  warnings.warn(\"'n_jobs' was deprecated in version 0.23 and will be\"\n"
     ]
    },
    {
     "name": "stdout",
     "output_type": "stream",
     "text": [
      "簇数是 5 时； SSE是 38928.864464711965\n"
     ]
    },
    {
     "name": "stderr",
     "output_type": "stream",
     "text": [
      "D:\\apps\\Anaconda3\\lib\\site-packages\\sklearn\\cluster\\_kmeans.py:973: FutureWarning: 'n_jobs' was deprecated in version 0.23 and will be removed in 0.25.\n",
      "  warnings.warn(\"'n_jobs' was deprecated in version 0.23 and will be\"\n"
     ]
    },
    {
     "name": "stdout",
     "output_type": "stream",
     "text": [
      "簇数是 6 时； SSE是 34100.493722513274\n"
     ]
    },
    {
     "name": "stderr",
     "output_type": "stream",
     "text": [
      "D:\\apps\\Anaconda3\\lib\\site-packages\\sklearn\\cluster\\_kmeans.py:973: FutureWarning: 'n_jobs' was deprecated in version 0.23 and will be removed in 0.25.\n",
      "  warnings.warn(\"'n_jobs' was deprecated in version 0.23 and will be\"\n"
     ]
    },
    {
     "name": "stdout",
     "output_type": "stream",
     "text": [
      "簇数是 7 时； SSE是 28125.672648622465\n"
     ]
    },
    {
     "name": "stderr",
     "output_type": "stream",
     "text": [
      "D:\\apps\\Anaconda3\\lib\\site-packages\\sklearn\\cluster\\_kmeans.py:973: FutureWarning: 'n_jobs' was deprecated in version 0.23 and will be removed in 0.25.\n",
      "  warnings.warn(\"'n_jobs' was deprecated in version 0.23 and will be\"\n"
     ]
    },
    {
     "name": "stdout",
     "output_type": "stream",
     "text": [
      "簇数是 8 时； SSE是 24230.878883232093\n"
     ]
    },
    {
     "name": "stderr",
     "output_type": "stream",
     "text": [
      "D:\\apps\\Anaconda3\\lib\\site-packages\\sklearn\\cluster\\_kmeans.py:973: FutureWarning: 'n_jobs' was deprecated in version 0.23 and will be removed in 0.25.\n",
      "  warnings.warn(\"'n_jobs' was deprecated in version 0.23 and will be\"\n"
     ]
    },
    {
     "name": "stdout",
     "output_type": "stream",
     "text": [
      "簇数是 9 时； SSE是 20720.44142859167\n"
     ]
    },
    {
     "data": {
      "image/png": "[encoded data removed]",
      "text/plain": [
       "<Figure size 720x576 with 1 Axes>"
      ]
     },
     "metadata": {},
     "output_type": "display_data"
    }
   ],
   "source": [
    "from sklearn.decomposition import PCA\n",
    "def getFeature(data):\n",
    "    '''\n",
    "    将特征数据集合降维为1\n",
    "    :param data: 需要降维的数据数组\n",
    "    :return: np.array\n",
    "    '''\n",
    "    pca = PCA(n_components=1)\n",
    "    data = pca.fit_transform(data)\n",
    "    return data\n",
    "behaviorFeature = getFeature(card1)\n",
    "economicRisksFeature = getFeature(card2)\n",
    "risksFeature = getFeature(card3)\n",
    "\n",
    "from sklearn.preprocessing import StandardScaler\n",
    " # 将三个特征合并\n",
    "allFeatures = np.append(behaviorFeature, economicRisksFeature, axis=1)\n",
    "allFeatures = np.append(allFeatures, risksFeature, axis=1)\n",
    "# 特征工程归一化\n",
    "sdScaler = StandardScaler()\n",
    "# # 构建信用卡高风险客户识别模型（HEI）\n",
    "from sklearn.cluster import KMeans\n",
    "from sklearn.preprocessing import StandardScaler\n",
    "km_model = KMeans(n_clusters=5,n_jobs=4)\n",
    "x_data = sdScaler.fit_transform(allFeatures)\n",
    "fit_kmeans = km_model.fit(x_data)\n",
    "km_model.cluster_centers_\n",
    "\n",
    "def distEclud(vecA, vecB):\n",
    "    \"\"\"\n",
    "    计算两个向量的欧式距离的平方，并返回\n",
    "    \"\"\"\n",
    "    return np.sum(np.power(vecA - vecB, 2))\n",
    "\n",
    "\n",
    "def test_Kmeans_nclusters(data_train):\n",
    "    \"\"\"\n",
    "    计算不同的k值时，SSE的大小变化\n",
    "    \"\"\"\n",
    "    data_train = data_train\n",
    "    nums = range(2, 10)\n",
    "    SSE = []\n",
    "    for num in nums:\n",
    "        sse = 0\n",
    "        kmodel = KMeans(n_clusters=num, n_jobs=4)\n",
    "        kmodel.fit(data_train)\n",
    "        # 簇中心\n",
    "        cluster_ceter_list = kmodel.cluster_centers_\n",
    "        # 个样本属于的簇序号列表\n",
    "        cluster_list = kmodel.labels_.tolist()\n",
    "        for index in range(len(data_train)):\n",
    "            cluster_num = cluster_list[index]\n",
    "            sse += distEclud(data_train[index, :], cluster_ceter_list[cluster_num])\n",
    "        print(\"簇数是\", num, \"时； SSE是\", sse)\n",
    "        SSE.append(sse)\n",
    "    return nums, SSE\n",
    "\n",
    "\n",
    "x_data = sdScaler.fit_transform(allFeatures)\n",
    "nums, SSE = test_Kmeans_nclusters(x_data)\n",
    "\n",
    "import matplotlib.pyplot as plt\n",
    "#画图，通过观察SSE与k的取值尝试找出合适的k值\n",
    "# 中文和负号的正常显示\n",
    "plt.rcParams['font.sans-serif'] = 'SimHei'\n",
    "plt.rcParams['font.size'] = 12.0\n",
    "plt.rcParams['axes.unicode_minus'] = False\n",
    "# 使用ggplot的绘图风格\n",
    "plt.style.use('ggplot')\n",
    "## 绘图观测SSE与簇个数的关系\n",
    "fig=plt.figure(figsize=(10, 8))\n",
    "ax=fig.add_subplot(1,1,1)\n",
    "ax.plot(nums,SSE,marker=\"+\")\n",
    "ax.set_xlabel(\"n_clusters\", fontsize=18)\n",
    "ax.set_ylabel(\"SSE\", fontsize=18)\n",
    "fig.suptitle(\"KMeans\", fontsize=20)\n",
    "plt.savefig('KMeans.png')\n",
    "plt.show()"
   ]
  },
  {
   "cell_type": "code",
   "execution_count": 17,
   "metadata": {},
   "outputs": [
    {
     "data": {
      "image/png": "[encoded data removed]",
      "text/plain": [
       "<Figure size 432x288 with 1 Axes>"
      ]
     },
     "metadata": {},
     "output_type": "display_data"
    }
   ],
   "source": [
    "from pandas import Series, DataFrame\n",
    "# 将三个特征合并\n",
    "allFeatures = np.append(behaviorFeature, economicRisksFeature, axis=1)\n",
    "allFeatures = np.append(allFeatures, risksFeature, axis=1)\n",
    "# 特征工程归一化\n",
    "sdScaler = StandardScaler()\n",
    "x_data = sdScaler.fit_transform(allFeatures)\n",
    "x_data = (x_data-x_data.min())/(x_data.max()-x_data.min())\n",
    "# print('x_data',x_data)\n",
    "# 初始化算法构造器，设置聚类数为5\n",
    "km = KMeans(n_clusters=5)\n",
    "# 训练数据获取模型\n",
    "model = km.fit_transform(x_data)\n",
    "# 持久化模型\n",
    "# joblib.dump(model, \"./model/card_km.model\")\n",
    "# 获取聚类中心点\n",
    "center = km.cluster_centers_\n",
    "import matplotlib.pyplot as plt\n",
    "clu = km.cluster_centers_\n",
    "# print(clu)\n",
    "x = [1,2,3]\n",
    "\n",
    "colors = ['#e32636','#008000','#89cff0','#9966cc','#ffcc00']\n",
    "for i in range(5):\n",
    "    plt.plot(x,clu[i],label='clustre '+str(i),linewidth=6-i,color=colors[i],marker='o')\n",
    "    \n",
    "\n",
    "plt.xlabel('H E I')\n",
    "plt.ylabel('values')\n",
    "plt.show()"
   ]
  },
  {
   "cell_type": "code",
   "execution_count": null,
   "metadata": {},
   "outputs": [],
   "source": [
    "# 我们重点关注的是H，E，I，从HEI图中可以看到：\n",
    "# 1、一类客户 [绿]   E I 很高，H也不低，可以看做是重要保持客户\n",
    "# 2、二类客户[黄]   可以看做是重要发展客户\n",
    "# 3、三类客户[紫]  重要挽留客户，原因：H很高，可以看做是重要的挽留客户，因为历史行为很高， 但是E和I较低\n",
    "# 4、四类客户[蓝]    E特别高，其余都较低,可以看作是一般客户\n",
    "# 5、五类客户[红]  低价值客户"
   ]
  }
 ],
 "metadata": {
  "kernelspec": {
   "display_name": "Python 3",
   "language": "python",
   "name": "python3"
  },
  "language_info": {
   "codemirror_mode": {
    "name": "ipython",
    "version": 3
   },
   "file_extension": ".py",
   "mimetype": "text/x-python",
   "name": "python",
   "nbconvert_exporter": "python",
   "pygments_lexer": "ipython3",
   "version": "3.8.3"
  }
 },
 "nbformat": 4,
 "nbformat_minor": 4
}