{
 "cells": [
  {
   "cell_type": "code",
   "execution_count": 3,
   "metadata": {
    "collapsed": true
   },
   "outputs": [
    {
     "name": "stdout",
     "output_type": "stream",
     "text": [
      "<class 'pandas.core.frame.DataFrame'>\n",
      "RangeIndex: 1000 entries, 0 to 999\n",
      "Data columns (total 17 columns):\n",
      " #   Column      Non-Null Count  Dtype  \n",
      "---  ------      --------------  -----  \n",
      " 0   企业编号        1000 non-null   object \n",
      " 1   SS(悬浮物)     1000 non-null   float64\n",
      " 2   标准（mg/L）    1000 non-null   int64  \n",
      " 3   TP(总磷)      1000 non-null   float64\n",
      " 4   标准（mg/L）.1  1000 non-null   float64\n",
      " 5   COD(化学需氧量)  1000 non-null   float64\n",
      " 6   标准（mg/L）.2  1000 non-null   int64  \n",
      " 7   TN(总氮)      1000 non-null   float64\n",
      " 8   标准（mg/L）.3  1000 non-null   int64  \n",
      " 9   BOD(生物需氧量)  1000 non-null   float64\n",
      " 10  标准（mg/L）.4  1000 non-null   int64  \n",
      " 11  NH3-N(氨氮)   1000 non-null   float64\n",
      " 12  标准（mg/L）.5  1000 non-null   int64  \n",
      " 13  FL（氟化物）     1000 non-null   float64\n",
      " 14  标准（mg/L）.6  1000 non-null   int64  \n",
      " 15  PH值         1000 non-null   int64  \n",
      " 16  标准          1000 non-null   object \n",
      "dtypes: float64(8), int64(7), object(2)\n",
      "memory usage: 132.9+ KB\n"
     ]
    },
    {
     "data": {
      "text/plain": "           SS(悬浮物)  标准（mg/L）       TP(总磷)  标准（mg/L）.1   COD(化学需氧量)  \\\ncount  1000.000000    1000.0  1000.000000      1000.0  1000.000000   \nmean    134.916440     160.0     4.472290         5.5    85.380030   \nstd      20.599319       0.0     0.857378         0.0    14.679456   \nmin     100.060000     160.0     3.010000         5.5    60.120000   \n25%     117.432500     160.0     3.697500         5.5    72.295000   \n50%     133.915000     160.0     4.485000         5.5    85.655000   \n75%     152.785000     160.0     5.160000         5.5    97.990000   \nmax     170.910000     160.0     5.990000         5.5   110.950000   \n\n       标准（mg/L）.2      TN(总氮)  标准（mg/L）.3   BOD(生物需氧量)  标准（mg/L）.4  \\\ncount      1000.0  1000.00000      1000.0  1000.000000      1000.0   \nmean        100.0    35.93808        40.0    85.475740       100.0   \nstd           0.0     5.71200         0.0    14.957153         0.0   \nmin         100.0    26.02000        40.0    60.070000       100.0   \n25%         100.0    31.02000        40.0    72.627500       100.0   \n50%         100.0    35.80500        40.0    84.570000       100.0   \n75%         100.0    40.83000        40.0    98.802500       100.0   \nmax         100.0    45.99000        40.0   110.930000       100.0   \n\n         NH3-N(氨氮)  标准（mg/L）.5      FL（氟化物）  标准（mg/L）.6          PH值  \ncount  1000.000000      1000.0  1000.000000      1000.0  1000.000000  \nmean     27.590600        30.0     9.502050        10.0     7.976000  \nstd       4.857145         0.0     1.944185         0.0     1.445515  \nmin      19.020000        30.0     6.010000        10.0     6.000000  \n25%      23.557500        30.0     7.830000        10.0     7.000000  \n50%      27.710000        30.0     9.445000        10.0     8.000000  \n75%      31.700000        30.0    11.122500        10.0     9.000000  \nmax      35.970000        30.0    12.990000        10.0    10.000000  ",
      "text/html": "<div>\n<style scoped>\n    .dataframe tbody tr th:only-of-type {\n        vertical-align: middle;\n    }\n\n    .dataframe tbody tr th {\n        vertical-align: top;\n    }\n\n    .dataframe thead th {\n        text-align: right;\n    }\n</style>\n<table border=\"1\" class=\"dataframe\">\n  <thead>\n    <tr style=\"text-align: right;\">\n      <th></th>\n      <th>SS(悬浮物)</th>\n      <th>标准（mg/L）</th>\n      <th>TP(总磷)</th>\n      <th>标准（mg/L）.1</th>\n      <th>COD(化学需氧量)</th>\n      <th>标准（mg/L）.2</th>\n      <th>TN(总氮)</th>\n      <th>标准（mg/L）.3</th>\n      <th>BOD(生物需氧量)</th>\n      <th>标准（mg/L）.4</th>\n      <th>NH3-N(氨氮)</th>\n      <th>标准（mg/L）.5</th>\n      <th>FL（氟化物）</th>\n      <th>标准（mg/L）.6</th>\n      <th>PH值</th>\n    </tr>\n  </thead>\n  <tbody>\n    <tr>\n      <th>count</th>\n      <td>1000.000000</td>\n      <td>1000.0</td>\n      <td>1000.000000</td>\n      <td>1000.0</td>\n      <td>1000.000000</td>\n      <td>1000.0</td>\n      <td>1000.00000</td>\n      <td>1000.0</td>\n      <td>1000.000000</td>\n      <td>1000.0</td>\n      <td>1000.000000</td>\n      <td>1000.0</td>\n      <td>1000.000000</td>\n      <td>1000.0</td>\n      <td>1000.000000</td>\n    </tr>\n    <tr>\n      <th>mean</th>\n      <td>134.916440</td>\n      <td>160.0</td>\n      <td>4.472290</td>\n      <td>5.5</td>\n      <td>85.380030</td>\n      <td>100.0</td>\n      <td>35.93808</td>\n      <td>40.0</td>\n      <td>85.475740</td>\n      <td>100.0</td>\n      <td>27.590600</td>\n      <td>30.0</td>\n      <td>9.502050</td>\n      <td>10.0</td>\n      <td>7.976000</td>\n    </tr>\n    <tr>\n      <th>std</th>\n      <td>20.599319</td>\n      <td>0.0</td>\n      <td>0.857378</td>\n      <td>0.0</td>\n      <td>14.679456</td>\n      <td>0.0</td>\n      <td>5.71200</td>\n      <td>0.0</td>\n      <td>14.957153</td>\n      <td>0.0</td>\n      <td>4.857145</td>\n      <td>0.0</td>\n      <td>1.944185</td>\n      <td>0.0</td>\n      <td>1.445515</td>\n    </tr>\n    <tr>\n      <th>min</th>\n      <td>100.060000</td>\n      <td>160.0</td>\n      <td>3.010000</td>\n      <td>5.5</td>\n      <td>60.120000</td>\n      <td>100.0</td>\n      <td>26.02000</td>\n      <td>40.0</td>\n      <td>60.070000</td>\n      <td>100.0</td>\n      <td>19.020000</td>\n      <td>30.0</td>\n      <td>6.010000</td>\n      <td>10.0</td>\n      <td>6.000000</td>\n    </tr>\n    <tr>\n      <th>25%</th>\n      <td>117.432500</td>\n      <td>160.0</td>\n      <td>3.697500</td>\n      <td>5.5</td>\n      <td>72.295000</td>\n      <td>100.0</td>\n      <td>31.02000</td>\n      <td>40.0</td>\n      <td>72.627500</td>\n      <td>100.0</td>\n      <td>23.557500</td>\n      <td>30.0</td>\n      <td>7.830000</td>\n      <td>10.0</td>\n      <td>7.000000</td>\n    </tr>\n    <tr>\n      <th>50%</th>\n      <td>133.915000</td>\n      <td>160.0</td>\n      <td>4.485000</td>\n      <td>5.5</td>\n      <td>85.655000</td>\n      <td>100.0</td>\n      <td>35.80500</td>\n      <td>40.0</td>\n      <td>84.570000</td>\n      <td>100.0</td>\n      <td>27.710000</td>\n      <td>30.0</td>\n      <td>9.445000</td>\n      <td>10.0</td>\n      <td>8.000000</td>\n    </tr>\n    <tr>\n      <th>75%</th>\n      <td>152.785000</td>\n      <td>160.0</td>\n      <td>5.160000</td>\n      <td>5.5</td>\n      <td>97.990000</td>\n      <td>100.0</td>\n      <td>40.83000</td>\n      <td>40.0</td>\n      <td>98.802500</td>\n      <td>100.0</td>\n      <td>31.700000</td>\n      <td>30.0</td>\n      <td>11.122500</td>\n      <td>10.0</td>\n      <td>9.000000</td>\n    </tr>\n    <tr>\n      <th>max</th>\n      <td>170.910000</td>\n      <td>160.0</td>\n      <td>5.990000</td>\n      <td>5.5</td>\n      <td>110.950000</td>\n      <td>100.0</td>\n      <td>45.99000</td>\n      <td>40.0</td>\n      <td>110.930000</td>\n      <td>100.0</td>\n      <td>35.970000</td>\n      <td>30.0</td>\n      <td>12.990000</td>\n      <td>10.0</td>\n      <td>10.000000</td>\n    </tr>\n  </tbody>\n</table>\n</div>"
     },
     "execution_count": 3,
     "metadata": {},
     "output_type": "execute_result"
    }
   ],
   "source": [
    "import pandas as pd\n",
    "import numpy as np\n",
    "import os\n",
    "sewage_disposal = pd.read_csv(\"污水排放数据集.csv\", encoding='utf-8')\n",
    "sewage_disposal.info()\n",
    "sewage_disposal.describe()"
   ]
  },
  {
   "cell_type": "code",
   "execution_count": null,
   "outputs": [],
   "source": [],
   "metadata": {
    "collapsed": false,
    "pycharm": {
     "name": "#%%\n"
    }
   }
  }
 ],
 "metadata": {
  "kernelspec": {
   "display_name": "Python 3",
   "language": "python",
   "name": "python3"
  },
  "language_info": {
   "codemirror_mode": {
    "name": "ipython",
    "version": 2
   },
   "file_extension": ".py",
   "mimetype": "text/x-python",
   "name": "python",
   "nbconvert_exporter": "python",
   "pygments_lexer": "ipython2",
   "version": "2.7.6"
  }
 },
 "nbformat": 4,
 "nbformat_minor": 0
}